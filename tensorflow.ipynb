{
 "cells": [
  {
   "cell_type": "code",
   "execution_count": 7,
   "id": "709e52b6",
   "metadata": {},
   "outputs": [
    {
     "name": "stderr",
     "output_type": "stream",
     "text": [
      "All model checkpoint layers were used when initializing TFBertForPreTraining.\n",
      "\n",
      "All the layers of TFBertForPreTraining were initialized from the model checkpoint at bert-base-uncased.\n",
      "If your task is similar to the task the model of the checkpoint was trained on, you can already use TFBertForPreTraining for predictions without further training.\n"
     ]
    },
    {
     "name": "stdout",
     "output_type": "stream",
     "text": [
      "outputs[:2] is (<tf.Tensor: shape=(1, 5, 30522), dtype=float32, numpy=\n",
      "array([[[ -6.8795724,  -6.7815495,  -6.76966  , ...,  -6.0176024,\n",
      "          -6.0539203,  -4.2974057],\n",
      "        [-11.962255 , -11.882247 , -11.932658 , ..., -11.1073065,\n",
      "         -10.714809 ,  -8.544879 ],\n",
      "        [-11.211011 , -11.585727 , -11.226399 , ..., -10.958972 ,\n",
      "         -10.400204 ,  -9.247572 ],\n",
      "        [-12.922968 , -12.618054 , -12.969504 , ..., -13.228766 ,\n",
      "         -12.073488 ,  -8.925045 ],\n",
      "        [-12.097216 , -11.819663 , -11.771928 , ...,  -9.71159  ,\n",
      "         -10.45709  ,  -9.606064 ]]], dtype=float32)>, <tf.Tensor: shape=(1, 2), dtype=float32, numpy=array([[ 3.692657 , -2.5917392]], dtype=float32)>)\n",
      "outputs[:2] end\n",
      "prediction_logits is tf.Tensor(\n",
      "[[[ -6.8795724  -6.7815495  -6.76966   ...  -6.0176024  -6.0539203\n",
      "    -4.2974057]\n",
      "  [-11.962255  -11.882247  -11.932658  ... -11.1073065 -10.714809\n",
      "    -8.544879 ]\n",
      "  [-11.211011  -11.585727  -11.226399  ... -10.958972  -10.400204\n",
      "    -9.247572 ]\n",
      "  [-12.922968  -12.618054  -12.969504  ... -13.228766  -12.073488\n",
      "    -8.925045 ]\n",
      "  [-12.097216  -11.819663  -11.771928  ...  -9.71159   -10.45709\n",
      "    -9.606064 ]]], shape=(1, 5, 30522), dtype=float32)\n"
     ]
    }
   ],
   "source": [
    "import tensorflow as tf\n",
    "from transformers import AutoTokenizer, TFBertForPreTraining\n",
    "\n",
    "tokenizer = AutoTokenizer.from_pretrained(\"bert-base-uncased\")\n",
    "model = TFBertForPreTraining.from_pretrained(\"bert-base-uncased\")\n",
    "input_ids = tokenizer(\"some text here\", add_special_tokens=True, return_tensors=\"tf\")\n",
    "\n",
    "outputs = model(input_ids)\n",
    "print(\"outputs[:2] is\", outputs[:2])\n",
    "print(\"outputs[:2] end\")\n",
    "prediction_logits, seq_relationship_logits = outputs[:2]\n",
    "print(\"prediction_logits is\", prediction_logits)"
   ]
  },
  {
   "cell_type": "code",
   "execution_count": null,
   "id": "909fde70",
   "metadata": {},
   "outputs": [],
   "source": []
  }
 ],
 "metadata": {
  "kernelspec": {
   "display_name": "Python 3 (ipykernel)",
   "language": "python",
   "name": "python3"
  },
  "language_info": {
   "codemirror_mode": {
    "name": "ipython",
    "version": 3
   },
   "file_extension": ".py",
   "mimetype": "text/x-python",
   "name": "python",
   "nbconvert_exporter": "python",
   "pygments_lexer": "ipython3",
   "version": "3.8.10"
  }
 },
 "nbformat": 4,
 "nbformat_minor": 5
}
